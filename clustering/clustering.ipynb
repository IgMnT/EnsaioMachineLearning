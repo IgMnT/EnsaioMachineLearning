{
 "cells": [
  {
   "cell_type": "code",
   "execution_count": 1,
   "id": "7f99a248",
   "metadata": {},
   "outputs": [],
   "source": [
    "# Imports\n",
    "import pandas as pd\n",
    "import sklearn.metrics as mt\n",
    "import numpy as np\n",
    "import matplotlib.pyplot as plt\n",
    "from sklearn import datasets as ds\n",
    "from sklearn import model_selection as ms\n",
    "from sklearn import preprocessing as pp\n",
    "from sklearn import metrics as mt\n",
    "from sklearn import tree\n",
    "from sklearn import svm\n",
    "from sklearn.cluster import KMeans\n",
    "from sklearn import neighbors\n",
    "from sklearn.cluster import AffinityPropagation as ap\n"
   ]
  },
  {
   "cell_type": "code",
   "execution_count": 3,
   "id": "187f6f53",
   "metadata": {},
   "outputs": [],
   "source": [
    "# Load dos datasets\n",
    "\n",
    "dataset = pd.read_csv('X_dataset.csv')\n"
   ]
  },
  {
   "cell_type": "code",
   "execution_count": 5,
   "id": "ca56fa31",
   "metadata": {},
   "outputs": [
    {
     "name": "stdout",
     "output_type": "stream",
     "text": [
      "Silhouette Score:  0.14214752184998414\n"
     ]
    }
   ],
   "source": [
    "kmeans = KMeans(n_clusters = 8)\n",
    "kmeans.fit(dataset)\n",
    "mt.silhouette_score(dataset, kmeans.labels_)\n",
    "print(\"Silhouette Score: \", mt.silhouette_score(dataset, kmeans.labels_))\n"
   ]
  },
  {
   "cell_type": "code",
   "execution_count": 9,
   "id": "19574e6b",
   "metadata": {},
   "outputs": [
    {
     "name": "stdout",
     "output_type": "stream",
     "text": [
      "Silhouette Score:  0.1693882248493382\n"
     ]
    }
   ],
   "source": [
    "aff = ap()\n",
    "aff.fit(dataset)\n",
    "mt.silhouette_score(dataset, aff.labels_)\n",
    "print(\"Silhouette Score: \", mt.silhouette_score(dataset, aff.labels_))"
   ]
  }
 ],
 "metadata": {
  "kernelspec": {
   "display_name": "Python 3",
   "language": "python",
   "name": "python3"
  },
  "language_info": {
   "codemirror_mode": {
    "name": "ipython",
    "version": 3
   },
   "file_extension": ".py",
   "mimetype": "text/x-python",
   "name": "python",
   "nbconvert_exporter": "python",
   "pygments_lexer": "ipython3",
   "version": "3.12.6"
  }
 },
 "nbformat": 4,
 "nbformat_minor": 5
}
