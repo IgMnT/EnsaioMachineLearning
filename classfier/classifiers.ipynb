{
 "cells": [
  {
   "cell_type": "code",
   "execution_count": 15,
   "metadata": {},
   "outputs": [],
   "source": [
    "# Imports\n",
    "import pandas as pd\n",
    "import sklearn.metrics as mt\n",
    "import numpy as np\n",
    "import matplotlib.pyplot as plt\n",
    "from sklearn.neighbors import KNeighborsClassifier\n",
    "from sklearn import datasets as ds\n",
    "from sklearn import model_selection as ms\n",
    "from sklearn import preprocessing as pp\n",
    "from sklearn.metrics import accuracy_score\n",
    "from sklearn import tree\n",
    "from sklearn.ensemble import RandomForestClassifier\n",
    "from sklearn.linear_model import LogisticRegression\n",
    "from sklearn import svm\n"
   ]
  },
  {
   "cell_type": "code",
   "execution_count": null,
   "metadata": {},
   "outputs": [],
   "source": [
    "# Load dos datasets\n",
    "\n",
    "x_train = pd.read_csv('X_training.csv')\n",
    "x_test = pd.read_csv('X_test.csv')\n",
    "y_train = pd.read_csv('y_training.csv')\n",
    "y_test = pd.read_csv('y_test.csv')\n",
    "x_validation = pd.read_csv('X_validation.csv')\n",
    "y_validation = pd.read_csv('y_validation.csv')"
   ]
  },
  {
   "cell_type": "code",
   "execution_count": null,
   "metadata": {},
   "outputs": [],
   "source": [
    "# KNN\n",
    "\n",
    "\n",
    "for k in range(1,30):\n",
    "    knn = KNeighborsClassifier(n_neighbors=k)\n",
    "    knn.fit(x_train, y_train.values.ravel())\n",
    "    y_pred_val = knn.predict(x_validation)\n",
    "    acc = mt.accuracy_score(y_validation, y_pred_val)\n",
    "    print(\"Accuracy for k = \", k, \" is \", acc)\n",
    "\n"
   ]
  },
  {
   "cell_type": "code",
   "execution_count": null,
   "metadata": {},
   "outputs": [],
   "source": [
    "knn_final = KNeighborsClassifier(n_neighbors=3)\n",
    "knn.fit(x_train, y_train.values.ravel())\n",
    "y_pred_test = knn.predict(x_test)\n",
    "prec_test = mt.precision_score(y_test, y_pred_test, average='macro')\n",
    "print (f'Precision for k=3: {prec_test:.4f}')\n",
    "acc_test = accuracy_score(y_pred_test, y_test)\n",
    "print (f'Accuracy for k=3: {acc_test:.4f}')\n"
   ]
  },
  {
   "cell_type": "code",
   "execution_count": null,
   "metadata": {},
   "outputs": [],
   "source": [
    "\n",
    "# Decision Tree Classifier\n",
    "\n",
    "# Métricas do teste\n",
    "decisiontree = tree.DecisionTreeClassifier()\n",
    "decisiontree.fit(x_train, y_train.values.ravel())\n",
    "y_pred_test = decisiontree.predict(x_test)\n",
    "acc_test = accuracy_score(y_pred_test, y_test)\n",
    "prec_test = mt.precision_score(y_test, y_pred_test, average='macro')\n",
    "rec_test = mt.recall_score(y_test, y_pred_test, average='macro')\n",
    "f1_test = mt.f1_score(y_test, y_pred_test, average='macro')\n",
    "print (f'Accuracy for Decision Tree: {acc_test:.4f}')\n",
    "print (f'Precision for Decision Tree: {prec_test:.4f}')\n",
    "print (f'Recall for Decision Tree: {rec_test:.4f}')\n",
    "print (f'F1 for Decision Tree: {f1_test:.4f}')\n",
    "\n",
    "\n",
    "\n",
    "\n"
   ]
  },
  {
   "cell_type": "code",
   "execution_count": null,
   "metadata": {},
   "outputs": [],
   "source": [
    "# Métricas do validation\n",
    "\n",
    "decisiontree = tree.DecisionTreeClassifier()\n",
    "decisiontree.fit(x_train, y_train.values.ravel())\n",
    "y_pred_test = decisiontree.predict(x_validation)\n",
    "acc_test = accuracy_score(y_pred_test, y_validation)\n",
    "prec_test = mt.precision_score(y_validation, y_pred_test, average='macro')\n",
    "rec_test = mt.recall_score(y_validation, y_pred_test, average='macro')\n",
    "f1_test = mt.f1_score(y_validation, y_pred_test, average='macro')\n",
    "print (f'Accuracy for Decision Tree: {acc_test:.4f}')\n",
    "print (f'Precision for Decision Tree: {prec_test:.4f}')\n",
    "print (f'Recall for Decision Tree: {rec_test:.4f}')\n",
    "print (f'F1 for Decision Tree: {f1_test:.4f}')"
   ]
  },
  {
   "cell_type": "code",
   "execution_count": null,
   "metadata": {},
   "outputs": [],
   "source": [
    "# Métricas do train\n",
    "\n",
    "\n",
    "decisiontree = tree.DecisionTreeClassifier()\n",
    "decisiontree.fit(x_train, y_train.values.ravel())\n",
    "y_pred_test = decisiontree.predict(x_train)\n",
    "acc_test = accuracy_score(y_pred_test, y_train)\n",
    "prec_test = mt.precision_score(y_train, y_pred_test, average='macro')\n",
    "rec_test = mt.recall_score(y_train, y_pred_test, average='macro')\n",
    "f1_test = mt.f1_score(y_train, y_pred_test, average='macro')\n",
    "print (f'Accuracy for Decision Tree: {acc_test:.4f}')\n",
    "print (f'Precision for Decision Tree: {prec_test:.4f}')\n",
    "print (f'Recall for Decision Tree: {rec_test:.4f}')\n",
    "print (f'F1 for Decision Tree: {f1_test:.4f}')"
   ]
  },
  {
   "cell_type": "code",
   "execution_count": 16,
   "metadata": {},
   "outputs": [
    {
     "name": "stdout",
     "output_type": "stream",
     "text": [
      "Accuracy for Random Forest: 0.9646\n",
      "Precision for Random Forest: 0.9657\n",
      "Recall for Random Forest: 0.9625\n",
      "F1 for Random Forest: 0.9639\n"
     ]
    }
   ],
   "source": [
    "# Random Forest Classifier\n",
    "\n",
    "# Métricas do teste\n",
    "randomforest = RandomForestClassifier()\n",
    "randomforest.fit(x_train, y_train.values.ravel())\n",
    "y_pred_test = randomforest.predict(x_test)\n",
    "acc_test = accuracy_score(y_pred_test, y_test)\n",
    "acc_test = accuracy_score(y_pred_test, y_test)\n",
    "prec_test = mt.precision_score(y_test, y_pred_test, average='macro')\n",
    "rec_test = mt.recall_score(y_test, y_pred_test, average='macro')\n",
    "f1_test = mt.f1_score(y_test, y_pred_test, average='macro')\n",
    "print (f'Accuracy for Random Forest: {acc_test:.4f}')\n",
    "print (f'Precision for Random Forest: {prec_test:.4f}')\n",
    "print (f'Recall for Random Forest: {rec_test:.4f}')\n",
    "print (f'F1 for Random Forest: {f1_test:.4f}')"
   ]
  }
 ],
 "metadata": {
  "kernelspec": {
   "display_name": "Python 3",
   "language": "python",
   "name": "python3"
  },
  "language_info": {
   "codemirror_mode": {
    "name": "ipython",
    "version": 3
   },
   "file_extension": ".py",
   "mimetype": "text/x-python",
   "name": "python",
   "nbconvert_exporter": "python",
   "pygments_lexer": "ipython3",
   "version": "3.13.0"
  }
 },
 "nbformat": 4,
 "nbformat_minor": 2
}
