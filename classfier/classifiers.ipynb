{
 "cells": [
  {
   "cell_type": "code",
   "execution_count": 1,
   "metadata": {},
   "outputs": [],
   "source": [
    "# Imports\n",
    "import pandas as pd\n",
    "import sklearn.metrics as mt\n",
    "import numpy as np\n",
    "import matplotlib.pyplot as plt\n",
    "from sklearn.neighbors import KNeighborsClassifier\n",
    "from sklearn import datasets as ds\n",
    "from sklearn import model_selection as ms\n",
    "from sklearn import preprocessing as pp\n",
    "from sklearn.metrics import accuracy_score\n",
    "from sklearn import tree\n",
    "from sklearn.ensemble import RandomForestClassifier\n",
    "from sklearn.linear_model import LogisticRegression\n",
    "from sklearn import svm\n"
   ]
  },
  {
   "cell_type": "code",
   "execution_count": 2,
   "metadata": {},
   "outputs": [],
   "source": [
    "# Load dos datasets\n",
    "\n",
    "x_train = pd.read_csv('X_training.csv')\n",
    "x_test = pd.read_csv('X_test.csv')\n",
    "y_train = pd.read_csv('y_training.csv')\n",
    "y_test = pd.read_csv('y_test.csv')\n",
    "x_validation = pd.read_csv('X_validation.csv')\n",
    "y_validation = pd.read_csv('y_validation.csv')\n",
    "\n"
   ]
  },
  {
   "cell_type": "code",
   "execution_count": 3,
   "metadata": {},
   "outputs": [
    {
     "name": "stdout",
     "output_type": "stream",
     "text": [
      "Accuracy for k =  1  is  0.6785289101965958\n",
      "Accuracy for k =  2  is  0.6612825380481997\n",
      "Accuracy for k =  3  is  0.6762765854757231\n",
      "Accuracy for k =  4  is  0.6687152096270794\n",
      "Accuracy for k =  5  is  0.6756652401943435\n",
      "Accuracy for k =  6  is  0.6705492454712185\n",
      "Accuracy for k =  7  is  0.6669777019852634\n",
      "Accuracy for k =  8  is  0.6676855754689662\n",
      "Accuracy for k =  9  is  0.6664950609736477\n",
      "Accuracy for k =  10  is  0.6654010746806526\n",
      "Accuracy for k =  11  is  0.6644357926574214\n",
      "Accuracy for k =  12  is  0.663245278162103\n",
      "Accuracy for k =  13  is  0.6610251295086714\n"
     ]
    },
    {
     "ename": "KeyboardInterrupt",
     "evalue": "",
     "output_type": "error",
     "traceback": [
      "\u001b[1;31m---------------------------------------------------------------------------\u001b[0m",
      "\u001b[1;31mKeyboardInterrupt\u001b[0m                         Traceback (most recent call last)",
      "Cell \u001b[1;32mIn[3], line 8\u001b[0m\n\u001b[0;32m      5\u001b[0m knn \u001b[38;5;241m=\u001b[39m KNeighborsClassifier(n_neighbors\u001b[38;5;241m=\u001b[39mk)\n\u001b[0;32m      6\u001b[0m knn\u001b[38;5;241m.\u001b[39mfit(x_train, y_train\u001b[38;5;241m.\u001b[39mvalues\u001b[38;5;241m.\u001b[39mravel())\n\u001b[1;32m----> 8\u001b[0m y_pred_val \u001b[38;5;241m=\u001b[39m \u001b[43mknn\u001b[49m\u001b[38;5;241;43m.\u001b[39;49m\u001b[43mpredict\u001b[49m\u001b[43m(\u001b[49m\u001b[43mx_validation\u001b[49m\u001b[43m)\u001b[49m\n\u001b[0;32m      9\u001b[0m acc \u001b[38;5;241m=\u001b[39m mt\u001b[38;5;241m.\u001b[39maccuracy_score(y_validation, y_pred_val)\n\u001b[0;32m     10\u001b[0m \u001b[38;5;28mprint\u001b[39m(\u001b[38;5;124m\"\u001b[39m\u001b[38;5;124mAccuracy for k = \u001b[39m\u001b[38;5;124m\"\u001b[39m, k, \u001b[38;5;124m\"\u001b[39m\u001b[38;5;124m is \u001b[39m\u001b[38;5;124m\"\u001b[39m, acc)\n",
      "File \u001b[1;32mc:\\Users\\igormagro\\AppData\\Local\\Programs\\Python\\Python312\\Lib\\site-packages\\sklearn\\neighbors\\_classification.py:274\u001b[0m, in \u001b[0;36mKNeighborsClassifier.predict\u001b[1;34m(self, X)\u001b[0m\n\u001b[0;32m    271\u001b[0m         \u001b[38;5;28;01mreturn\u001b[39;00m \u001b[38;5;28mself\u001b[39m\u001b[38;5;241m.\u001b[39mclasses_[np\u001b[38;5;241m.\u001b[39margmax(probabilities, axis\u001b[38;5;241m=\u001b[39m\u001b[38;5;241m1\u001b[39m)]\n\u001b[0;32m    272\u001b[0m     \u001b[38;5;66;03m# In that case, we do not need the distances to perform\u001b[39;00m\n\u001b[0;32m    273\u001b[0m     \u001b[38;5;66;03m# the weighting so we do not compute them.\u001b[39;00m\n\u001b[1;32m--> 274\u001b[0m     neigh_ind \u001b[38;5;241m=\u001b[39m \u001b[38;5;28;43mself\u001b[39;49m\u001b[38;5;241;43m.\u001b[39;49m\u001b[43mkneighbors\u001b[49m\u001b[43m(\u001b[49m\u001b[43mX\u001b[49m\u001b[43m,\u001b[49m\u001b[43m \u001b[49m\u001b[43mreturn_distance\u001b[49m\u001b[38;5;241;43m=\u001b[39;49m\u001b[38;5;28;43;01mFalse\u001b[39;49;00m\u001b[43m)\u001b[49m\n\u001b[0;32m    275\u001b[0m     neigh_dist \u001b[38;5;241m=\u001b[39m \u001b[38;5;28;01mNone\u001b[39;00m\n\u001b[0;32m    276\u001b[0m \u001b[38;5;28;01melse\u001b[39;00m:\n",
      "File \u001b[1;32mc:\\Users\\igormagro\\AppData\\Local\\Programs\\Python\\Python312\\Lib\\site-packages\\sklearn\\neighbors\\_base.py:869\u001b[0m, in \u001b[0;36mKNeighborsMixin.kneighbors\u001b[1;34m(self, X, n_neighbors, return_distance)\u001b[0m\n\u001b[0;32m    862\u001b[0m use_pairwise_distances_reductions \u001b[38;5;241m=\u001b[39m (\n\u001b[0;32m    863\u001b[0m     \u001b[38;5;28mself\u001b[39m\u001b[38;5;241m.\u001b[39m_fit_method \u001b[38;5;241m==\u001b[39m \u001b[38;5;124m\"\u001b[39m\u001b[38;5;124mbrute\u001b[39m\u001b[38;5;124m\"\u001b[39m\n\u001b[0;32m    864\u001b[0m     \u001b[38;5;129;01mand\u001b[39;00m ArgKmin\u001b[38;5;241m.\u001b[39mis_usable_for(\n\u001b[0;32m    865\u001b[0m         X \u001b[38;5;28;01mif\u001b[39;00m X \u001b[38;5;129;01mis\u001b[39;00m \u001b[38;5;129;01mnot\u001b[39;00m \u001b[38;5;28;01mNone\u001b[39;00m \u001b[38;5;28;01melse\u001b[39;00m \u001b[38;5;28mself\u001b[39m\u001b[38;5;241m.\u001b[39m_fit_X, \u001b[38;5;28mself\u001b[39m\u001b[38;5;241m.\u001b[39m_fit_X, \u001b[38;5;28mself\u001b[39m\u001b[38;5;241m.\u001b[39meffective_metric_\n\u001b[0;32m    866\u001b[0m     )\n\u001b[0;32m    867\u001b[0m )\n\u001b[0;32m    868\u001b[0m \u001b[38;5;28;01mif\u001b[39;00m use_pairwise_distances_reductions:\n\u001b[1;32m--> 869\u001b[0m     results \u001b[38;5;241m=\u001b[39m \u001b[43mArgKmin\u001b[49m\u001b[38;5;241;43m.\u001b[39;49m\u001b[43mcompute\u001b[49m\u001b[43m(\u001b[49m\n\u001b[0;32m    870\u001b[0m \u001b[43m        \u001b[49m\u001b[43mX\u001b[49m\u001b[38;5;241;43m=\u001b[39;49m\u001b[43mX\u001b[49m\u001b[43m,\u001b[49m\n\u001b[0;32m    871\u001b[0m \u001b[43m        \u001b[49m\u001b[43mY\u001b[49m\u001b[38;5;241;43m=\u001b[39;49m\u001b[38;5;28;43mself\u001b[39;49m\u001b[38;5;241;43m.\u001b[39;49m\u001b[43m_fit_X\u001b[49m\u001b[43m,\u001b[49m\n\u001b[0;32m    872\u001b[0m \u001b[43m        \u001b[49m\u001b[43mk\u001b[49m\u001b[38;5;241;43m=\u001b[39;49m\u001b[43mn_neighbors\u001b[49m\u001b[43m,\u001b[49m\n\u001b[0;32m    873\u001b[0m \u001b[43m        \u001b[49m\u001b[43mmetric\u001b[49m\u001b[38;5;241;43m=\u001b[39;49m\u001b[38;5;28;43mself\u001b[39;49m\u001b[38;5;241;43m.\u001b[39;49m\u001b[43meffective_metric_\u001b[49m\u001b[43m,\u001b[49m\n\u001b[0;32m    874\u001b[0m \u001b[43m        \u001b[49m\u001b[43mmetric_kwargs\u001b[49m\u001b[38;5;241;43m=\u001b[39;49m\u001b[38;5;28;43mself\u001b[39;49m\u001b[38;5;241;43m.\u001b[39;49m\u001b[43meffective_metric_params_\u001b[49m\u001b[43m,\u001b[49m\n\u001b[0;32m    875\u001b[0m \u001b[43m        \u001b[49m\u001b[43mstrategy\u001b[49m\u001b[38;5;241;43m=\u001b[39;49m\u001b[38;5;124;43m\"\u001b[39;49m\u001b[38;5;124;43mauto\u001b[39;49m\u001b[38;5;124;43m\"\u001b[39;49m\u001b[43m,\u001b[49m\n\u001b[0;32m    876\u001b[0m \u001b[43m        \u001b[49m\u001b[43mreturn_distance\u001b[49m\u001b[38;5;241;43m=\u001b[39;49m\u001b[43mreturn_distance\u001b[49m\u001b[43m,\u001b[49m\n\u001b[0;32m    877\u001b[0m \u001b[43m    \u001b[49m\u001b[43m)\u001b[49m\n\u001b[0;32m    879\u001b[0m \u001b[38;5;28;01melif\u001b[39;00m (\n\u001b[0;32m    880\u001b[0m     \u001b[38;5;28mself\u001b[39m\u001b[38;5;241m.\u001b[39m_fit_method \u001b[38;5;241m==\u001b[39m \u001b[38;5;124m\"\u001b[39m\u001b[38;5;124mbrute\u001b[39m\u001b[38;5;124m\"\u001b[39m \u001b[38;5;129;01mand\u001b[39;00m \u001b[38;5;28mself\u001b[39m\u001b[38;5;241m.\u001b[39mmetric \u001b[38;5;241m==\u001b[39m \u001b[38;5;124m\"\u001b[39m\u001b[38;5;124mprecomputed\u001b[39m\u001b[38;5;124m\"\u001b[39m \u001b[38;5;129;01mand\u001b[39;00m issparse(X)\n\u001b[0;32m    881\u001b[0m ):\n\u001b[0;32m    882\u001b[0m     results \u001b[38;5;241m=\u001b[39m _kneighbors_from_graph(\n\u001b[0;32m    883\u001b[0m         X, n_neighbors\u001b[38;5;241m=\u001b[39mn_neighbors, return_distance\u001b[38;5;241m=\u001b[39mreturn_distance\n\u001b[0;32m    884\u001b[0m     )\n",
      "File \u001b[1;32mc:\\Users\\igormagro\\AppData\\Local\\Programs\\Python\\Python312\\Lib\\site-packages\\sklearn\\metrics\\_pairwise_distances_reduction\\_dispatcher.py:281\u001b[0m, in \u001b[0;36mArgKmin.compute\u001b[1;34m(cls, X, Y, k, metric, chunk_size, metric_kwargs, strategy, return_distance)\u001b[0m\n\u001b[0;32m    200\u001b[0m \u001b[38;5;250m\u001b[39m\u001b[38;5;124;03m\"\"\"Compute the argkmin reduction.\u001b[39;00m\n\u001b[0;32m    201\u001b[0m \n\u001b[0;32m    202\u001b[0m \u001b[38;5;124;03mParameters\u001b[39;00m\n\u001b[1;32m   (...)\u001b[0m\n\u001b[0;32m    278\u001b[0m \u001b[38;5;124;03mreturns.\u001b[39;00m\n\u001b[0;32m    279\u001b[0m \u001b[38;5;124;03m\"\"\"\u001b[39;00m\n\u001b[0;32m    280\u001b[0m \u001b[38;5;28;01mif\u001b[39;00m X\u001b[38;5;241m.\u001b[39mdtype \u001b[38;5;241m==\u001b[39m Y\u001b[38;5;241m.\u001b[39mdtype \u001b[38;5;241m==\u001b[39m np\u001b[38;5;241m.\u001b[39mfloat64:\n\u001b[1;32m--> 281\u001b[0m     \u001b[38;5;28;01mreturn\u001b[39;00m \u001b[43mArgKmin64\u001b[49m\u001b[38;5;241;43m.\u001b[39;49m\u001b[43mcompute\u001b[49m\u001b[43m(\u001b[49m\n\u001b[0;32m    282\u001b[0m \u001b[43m        \u001b[49m\u001b[43mX\u001b[49m\u001b[38;5;241;43m=\u001b[39;49m\u001b[43mX\u001b[49m\u001b[43m,\u001b[49m\n\u001b[0;32m    283\u001b[0m \u001b[43m        \u001b[49m\u001b[43mY\u001b[49m\u001b[38;5;241;43m=\u001b[39;49m\u001b[43mY\u001b[49m\u001b[43m,\u001b[49m\n\u001b[0;32m    284\u001b[0m \u001b[43m        \u001b[49m\u001b[43mk\u001b[49m\u001b[38;5;241;43m=\u001b[39;49m\u001b[43mk\u001b[49m\u001b[43m,\u001b[49m\n\u001b[0;32m    285\u001b[0m \u001b[43m        \u001b[49m\u001b[43mmetric\u001b[49m\u001b[38;5;241;43m=\u001b[39;49m\u001b[43mmetric\u001b[49m\u001b[43m,\u001b[49m\n\u001b[0;32m    286\u001b[0m \u001b[43m        \u001b[49m\u001b[43mchunk_size\u001b[49m\u001b[38;5;241;43m=\u001b[39;49m\u001b[43mchunk_size\u001b[49m\u001b[43m,\u001b[49m\n\u001b[0;32m    287\u001b[0m \u001b[43m        \u001b[49m\u001b[43mmetric_kwargs\u001b[49m\u001b[38;5;241;43m=\u001b[39;49m\u001b[43mmetric_kwargs\u001b[49m\u001b[43m,\u001b[49m\n\u001b[0;32m    288\u001b[0m \u001b[43m        \u001b[49m\u001b[43mstrategy\u001b[49m\u001b[38;5;241;43m=\u001b[39;49m\u001b[43mstrategy\u001b[49m\u001b[43m,\u001b[49m\n\u001b[0;32m    289\u001b[0m \u001b[43m        \u001b[49m\u001b[43mreturn_distance\u001b[49m\u001b[38;5;241;43m=\u001b[39;49m\u001b[43mreturn_distance\u001b[49m\u001b[43m,\u001b[49m\n\u001b[0;32m    290\u001b[0m \u001b[43m    \u001b[49m\u001b[43m)\u001b[49m\n\u001b[0;32m    292\u001b[0m \u001b[38;5;28;01mif\u001b[39;00m X\u001b[38;5;241m.\u001b[39mdtype \u001b[38;5;241m==\u001b[39m Y\u001b[38;5;241m.\u001b[39mdtype \u001b[38;5;241m==\u001b[39m np\u001b[38;5;241m.\u001b[39mfloat32:\n\u001b[0;32m    293\u001b[0m     \u001b[38;5;28;01mreturn\u001b[39;00m ArgKmin32\u001b[38;5;241m.\u001b[39mcompute(\n\u001b[0;32m    294\u001b[0m         X\u001b[38;5;241m=\u001b[39mX,\n\u001b[0;32m    295\u001b[0m         Y\u001b[38;5;241m=\u001b[39mY,\n\u001b[1;32m   (...)\u001b[0m\n\u001b[0;32m    301\u001b[0m         return_distance\u001b[38;5;241m=\u001b[39mreturn_distance,\n\u001b[0;32m    302\u001b[0m     )\n",
      "File \u001b[1;32msklearn\\\\metrics\\\\_pairwise_distances_reduction\\\\_argkmin.pyx:59\u001b[0m, in \u001b[0;36msklearn.metrics._pairwise_distances_reduction._argkmin.ArgKmin64.compute\u001b[1;34m()\u001b[0m\n",
      "File \u001b[1;32mc:\\Users\\igormagro\\AppData\\Local\\Programs\\Python\\Python312\\Lib\\site-packages\\threadpoolctl.py:592\u001b[0m, in \u001b[0;36m_ThreadpoolLimiter.__exit__\u001b[1;34m(self, type, value, traceback)\u001b[0m\n\u001b[0;32m    589\u001b[0m \u001b[38;5;28;01mdef\u001b[39;00m \u001b[38;5;21m__enter__\u001b[39m(\u001b[38;5;28mself\u001b[39m):\n\u001b[0;32m    590\u001b[0m     \u001b[38;5;28;01mreturn\u001b[39;00m \u001b[38;5;28mself\u001b[39m\n\u001b[1;32m--> 592\u001b[0m \u001b[38;5;28;01mdef\u001b[39;00m \u001b[38;5;21m__exit__\u001b[39m(\u001b[38;5;28mself\u001b[39m, \u001b[38;5;28mtype\u001b[39m, value, traceback):\n\u001b[0;32m    593\u001b[0m     \u001b[38;5;28mself\u001b[39m\u001b[38;5;241m.\u001b[39mrestore_original_limits()\n\u001b[0;32m    595\u001b[0m \u001b[38;5;129m@classmethod\u001b[39m\n\u001b[0;32m    596\u001b[0m \u001b[38;5;28;01mdef\u001b[39;00m \u001b[38;5;21mwrap\u001b[39m(\u001b[38;5;28mcls\u001b[39m, controller, \u001b[38;5;241m*\u001b[39m, limits\u001b[38;5;241m=\u001b[39m\u001b[38;5;28;01mNone\u001b[39;00m, user_api\u001b[38;5;241m=\u001b[39m\u001b[38;5;28;01mNone\u001b[39;00m):\n",
      "\u001b[1;31mKeyboardInterrupt\u001b[0m: "
     ]
    }
   ],
   "source": [
    "# Analise de parametros KNN\n",
    "\n",
    "\n",
    "for k in range(1,30):\n",
    "    knn = KNeighborsClassifier(n_neighbors=k)\n",
    "    knn.fit(x_train, y_train.values.ravel())\n",
    "    \n",
    "    y_pred_val = knn.predict(x_validation)\n",
    "    acc = mt.accuracy_score(y_validation, y_pred_val)\n",
    "    print(\"Accuracy for k = \", k, \" is \", acc)\n",
    "\n"
   ]
  },
  {
   "cell_type": "code",
   "execution_count": null,
   "metadata": {},
   "outputs": [
    {
     "name": "stdout",
     "output_type": "stream",
     "text": [
      "Train Accuracy for k =  3  is  0.7815624353582018\n",
      "Train Precision for k =  3  is  0.778022767889998\n",
      "Train Recall for k =  3  is  0.7758029194324021\n",
      "Train F1 for k =  3  is  0.7767663289187132\n"
     ]
    }
   ],
   "source": [
    "# Métricas do train\n",
    "\n",
    "\n",
    "knn= KNeighborsClassifier()\n",
    "knn.fit(x_train, y_train.values.ravel())\n",
    "y_pred_train = knn.predict(x_train)\n",
    "acc_train = mt.accuracy_score(y_train, y_pred_train)\n",
    "print(\"Train Accuracy for k = \", 3, \" is \", acc_train)\n",
    "prec_train = mt.precision_score(y_train, y_pred_train, average='macro')\n",
    "recall_train = mt.recall_score(y_train, y_pred_train, average='macro')\n",
    "f1_train = mt.f1_score(y_train, y_pred_train, average='macro')\n",
    "print(\"Train Precision for k = \", 3, \" is \", prec_train)\n",
    "print(\"Train Recall for k = \", 3, \" is \", recall_train)\n",
    "print(\"Train F1 for k = \", 3, \" is \", f1_train)\n",
    "\n",
    "\n"
   ]
  },
  {
   "cell_type": "code",
   "execution_count": null,
   "metadata": {},
   "outputs": [
    {
     "name": "stdout",
     "output_type": "stream",
     "text": [
      "Validation Accuracy for k =  3  is  0.6756652401943435\n",
      "Validation Precision for k =  3  is  0.6692082320027857\n",
      "Validation Recall for k =  3  is  0.6671407504451405\n",
      "Validation F1 for k =  3  is  0.6679045762286255\n"
     ]
    }
   ],
   "source": [
    "# Métricas da validação\n",
    "knn= KNeighborsClassifier()\n",
    "knn.fit(x_train, y_train.values.ravel())\n",
    "y_pred_val = knn.predict(x_validation)\n",
    "acc_val = mt.accuracy_score(y_validation, y_pred_val)\n",
    "prec_val = mt.precision_score(y_validation, y_pred_val, average='macro')\n",
    "recall_val = mt.recall_score(y_validation, y_pred_val, average='macro')\n",
    "f1_val = mt.f1_score(y_validation, y_pred_val, average='macro')\n",
    "print(\"Validation Accuracy for k = \", 3, \" is \", acc_val)\n",
    "print(\"Validation Precision for k = \", 3, \" is \", prec_val)\n",
    "print(\"Validation Recall for k = \", 3, \" is \", recall_val)\n",
    "print(\"Validation F1 for k = \", 3, \" is \", f1_val)\n"
   ]
  },
  {
   "cell_type": "code",
   "execution_count": null,
   "metadata": {},
   "outputs": [
    {
     "name": "stdout",
     "output_type": "stream",
     "text": [
      "Precision for k=3: 0.6650\n",
      "Accuracy for k=3: 0.6705\n",
      "Recall for k=3: 0.6630\n",
      "F1 for k=3: 0.6637\n"
     ]
    }
   ],
   "source": [
    "# Métricas do teste\n",
    "knn= KNeighborsClassifier()\n",
    "knn.fit(x_train, y_train.values.ravel())\n",
    "y_pred_test = knn.predict(x_test)\n",
    "prec_test = mt.precision_score(y_test, y_pred_test, average='macro')\n",
    "print (f'Precision for k=3: {prec_test:.4f}')\n",
    "acc_test = accuracy_score(y_pred_test, y_test)\n",
    "print (f'Accuracy for k=3: {acc_test:.4f}')\n",
    "recall_test = mt.recall_score(y_test, y_pred_test, average='macro')\n",
    "print (f'Recall for k=3: {recall_test:.4f}')\n",
    "f1_test = mt.f1_score(y_test, y_pred_test, average='macro')\n",
    "print (f'F1 for k=3: {f1_test:.4f}')"
   ]
  },
  {
   "cell_type": "code",
   "execution_count": null,
   "metadata": {},
   "outputs": [
    {
     "name": "stdout",
     "output_type": "stream",
     "text": [
      "Accuracy for Decision Tree: 0.9445\n",
      "Precision for Decision Tree: 0.9434\n",
      "Recall for Decision Tree: 0.9440\n",
      "F1 for Decision Tree: 0.9437\n"
     ]
    }
   ],
   "source": [
    "\n",
    "# Decision Tree Classifier\n",
    "\n",
    "# Métricas do teste\n",
    "decisiontree = tree.DecisionTreeClassifier()\n",
    "decisiontree.fit(x_train, y_train.values.ravel())\n",
    "y_pred_test = decisiontree.predict(x_test)\n",
    "acc_test = accuracy_score(y_pred_test, y_test)\n",
    "prec_test = mt.precision_score(y_test, y_pred_test, average='macro')\n",
    "rec_test = mt.recall_score(y_test, y_pred_test, average='macro')\n",
    "f1_test = mt.f1_score(y_test, y_pred_test, average='macro')\n",
    "print (f'Accuracy for Decision Tree: {acc_test:.4f}')\n",
    "print (f'Precision for Decision Tree: {prec_test:.4f}')\n",
    "print (f'Recall for Decision Tree: {rec_test:.4f}')\n",
    "print (f'F1 for Decision Tree: {f1_test:.4f}')\n",
    "\n",
    "\n",
    "\n",
    "\n"
   ]
  },
  {
   "cell_type": "code",
   "execution_count": null,
   "metadata": {},
   "outputs": [
    {
     "name": "stdout",
     "output_type": "stream",
     "text": [
      "Accuracy for Decision Tree: 0.9439\n",
      "Precision for Decision Tree: 0.9438\n",
      "Recall for Decision Tree: 0.9445\n",
      "F1 for Decision Tree: 0.9442\n"
     ]
    }
   ],
   "source": [
    "# Métricas do validation\n",
    "\n",
    "decisiontree = tree.DecisionTreeClassifier()\n",
    "decisiontree.fit(x_train, y_train.values.ravel())\n",
    "y_pred_val = decisiontree.predict(x_validation)\n",
    "acc_val = accuracy_score(y_pred_val, y_validation)\n",
    "prec_val = mt.precision_score(y_validation, y_pred_val, average='macro')\n",
    "rec_val = mt.recall_score(y_validation, y_pred_val, average='macro')\n",
    "f1_val = mt.f1_score(y_validation, y_pred_val, average='macro')\n",
    "print (f'Accuracy for Decision Tree: {acc_test:.4f}')\n",
    "print (f'Precision for Decision Tree: {prec_val:.4f}')\n",
    "print (f'Recall for Decision Tree: {rec_val:.4f}')\n",
    "print (f'F1 for Decision Tree: {f1_val:.4f}')"
   ]
  },
  {
   "cell_type": "code",
   "execution_count": 5,
   "metadata": {},
   "outputs": [
    {
     "name": "stdout",
     "output_type": "stream",
     "text": [
      "Accuracy for Decision Tree: 1.0000\n",
      "Precision for Decision Tree: 1.0000\n",
      "Recall for Decision Tree: 1.0000\n",
      "F1 for Decision Tree: 1.0000\n"
     ]
    }
   ],
   "source": [
    "# Métricas do train\n",
    "\n",
    "\n",
    "decisiontree = tree.DecisionTreeClassifier()\n",
    "decisiontree.fit(x_train, y_train.values.ravel())\n",
    "y_pred_train = decisiontree.predict(x_train)\n",
    "acc_train = accuracy_score(y_pred_train, y_train)\n",
    "prec_train = mt.precision_score(y_train, y_pred_train, average='macro')\n",
    "rec_train = mt.recall_score(y_train, y_pred_train, average='macro')\n",
    "f1_train = mt.f1_score(y_train, y_pred_train, average='macro')\n",
    "print (f'Accuracy for Decision Tree: {acc_train:.4f}')\n",
    "print (f'Precision for Decision Tree: {prec_train:.4f}')\n",
    "print (f'Recall for Decision Tree: {rec_train:.4f}')\n",
    "print (f'F1 for Decision Tree: {f1_train:.4f}')"
   ]
  },
  {
   "cell_type": "code",
   "execution_count": 4,
   "metadata": {},
   "outputs": [
    {
     "name": "stdout",
     "output_type": "stream",
     "text": [
      "Accuracy for Random Forest: 0.9639\n",
      "Precision for Random Forest: 0.9650\n",
      "Recall for Random Forest: 0.9617\n",
      "F1 for Random Forest: 0.9632\n",
      "Accuracy for Random Forest: 0.9646\n",
      "Precision for Random Forest: 0.9660\n",
      "Recall for Random Forest: 0.9621\n",
      "F1 for Random Forest: 0.9638\n",
      "Accuracy for Random Forest: 1.0000\n",
      "Precision for Random Forest: 1.0000\n",
      "Recall for Random Forest: 1.0000\n",
      "F1 for Random Forest: 1.0000\n"
     ]
    }
   ],
   "source": [
    "# Random Forest Classifier\n",
    "\n",
    "# Métricas do teste\n",
    "randomforest = RandomForestClassifier()\n",
    "randomforest.fit(x_train, y_train.values.ravel())\n",
    "y_pred_test = randomforest.predict(x_test)\n",
    "acc_test = accuracy_score(y_pred_test, y_test)\n",
    "acc_test = accuracy_score(y_pred_test, y_test)\n",
    "prec_test = mt.precision_score(y_test, y_pred_test, average='macro')\n",
    "rec_test = mt.recall_score(y_test, y_pred_test, average='macro')\n",
    "f1_test = mt.f1_score(y_test, y_pred_test, average='macro')\n",
    "print (f'Accuracy for Random Forest: {acc_test:.4f}')\n",
    "print (f'Precision for Random Forest: {prec_test:.4f}')\n",
    "print (f'Recall for Random Forest: {rec_test:.4f}')\n",
    "print (f'F1 for Random Forest: {f1_test:.4f}')\n",
    "\n",
    "#Métricas do validation\n",
    "randomforest = RandomForestClassifier()\n",
    "randomforest.fit(x_train, y_train.values.ravel())\n",
    "y_pred_val = randomforest.predict(x_validation)\n",
    "acc_validation = accuracy_score(y_pred_val, y_validation)\n",
    "prec_validation = mt.precision_score(y_validation, y_pred_val, average='macro')\n",
    "rec_validation = mt.recall_score(y_validation, y_pred_val, average='macro')\n",
    "f1_validation = mt.f1_score(y_validation, y_pred_val, average='macro')\n",
    "print (f'Accuracy for Random Forest: {acc_validation:.4f}')\n",
    "print (f'Precision for Random Forest: {prec_validation:.4f}')\n",
    "print (f'Recall for Random Forest: {rec_validation:.4f}')\n",
    "print (f'F1 for Random Forest: {f1_validation:.4f}')\n",
    "\n",
    "#Métricas do train\n",
    "randomforest = RandomForestClassifier()\n",
    "randomforest.fit(x_train, y_train.values.ravel())\n",
    "y_pred_train = randomforest.predict(x_train)\n",
    "acc_train = accuracy_score(y_pred_train, y_train)\n",
    "prec_train = mt.precision_score(y_train, y_pred_train, average='macro')\n",
    "rec_train = mt.recall_score(y_train, y_pred_train, average='macro')\n",
    "f1_train = mt.f1_score(y_train, y_pred_train, average='macro')\n",
    "print (f'Accuracy for Random Forest: {acc_train:.4f}')\n",
    "print (f'Precision for Random Forest: {prec_train:.4f}')\n",
    "print (f'Recall for Random Forest: {rec_train:.4f}')\n",
    "print (f'F1 for Random Forest: {f1_train:.4f}')\n"
   ]
  },
  {
   "cell_type": "code",
   "execution_count": null,
   "metadata": {},
   "outputs": [
    {
     "name": "stdout",
     "output_type": "stream",
     "text": [
      "Train Accuracy for Logistic Regression: 0.8761\n",
      "Train Precision for Logistic Regression: 0.8755\n",
      "Train Recall for Logistic Regression: 0.8716\n",
      "Train F1 for Logistic Regression: 0.8733\n",
      "Validation Accuracy for Logistic Regression: 0.8747\n",
      "Validation Precision for Logistic Regression: 0.8740\n",
      "Validation Recall for Logistic Regression: 0.8702\n",
      "Validation F1 for Logistic Regression: 0.8719\n",
      "Test Accuracy for Logistic Regression: 0.8721\n",
      "Test Precision for Logistic Regression: 0.8715\n",
      "Test Recall for Logistic Regression: 0.8680\n",
      "Test F1 for Logistic Regression: 0.8695\n"
     ]
    }
   ],
   "source": [
    "# Logistic Regression\n",
    "\n",
    "scaler = pp.StandardScaler()\n",
    "x_train_scaled = scaler.fit_transform(x_train)\n",
    "x_validation_scaled = scaler.transform(x_validation)\n",
    "x_test_scaled = scaler.transform(x_test)\n",
    "\n",
    "# Métricas do train\n",
    "logisticregression = LogisticRegression(max_iter=3000)\n",
    "logisticregression.fit(x_train_scaled, y_train.values.ravel())\n",
    "y_pred_train = logisticregression.predict(x_train_scaled)\n",
    "acc_train = accuracy_score(y_pred_train, y_train)\n",
    "prec_train = mt.precision_score(y_train, y_pred_train, average='macro')\n",
    "rec_train = mt.recall_score(y_train, y_pred_train, average='macro')\n",
    "f1_train = mt.f1_score(y_train, y_pred_train, average='macro')\n",
    "print (f'Train Accuracy for Logistic Regression: {acc_train:.4f}')\n",
    "print (f'Train Precision for Logistic Regression: {prec_train:.4f}')\n",
    "print (f'Train Recall for Logistic Regression: {rec_train:.4f}')\n",
    "print (f'Train F1 for Logistic Regression: {f1_train:.4f}')\n",
    "\n",
    "# Métricas do validation\n",
    "y_pred_val = logisticregression.predict(x_validation_scaled)\n",
    "acc_validation = accuracy_score(y_pred_val, x_validation_scaled)\n",
    "prec_validation = mt.precision_score(y_validation, y_pred_val, average='macro')\n",
    "rec_validation = mt.recall_score(y_validation, y_pred_val, average='macro')\n",
    "f1_validation = mt.f1_score(y_validation, y_pred_val, average='macro')\n",
    "print (f'Validation Accuracy for Logistic Regression: {acc_validation:.4f}')\n",
    "print (f'Validation Precision for Logistic Regression: {prec_validation:.4f}')\n",
    "print (f'Validation Recall for Logistic Regression: {rec_validation:.4f}')\n",
    "print (f'Validation F1 for Logistic Regression: {f1_validation:.4f}')\n",
    "\n",
    "# Métricas do teste\n",
    "y_pred_test = logisticregression.predict(x_test_scaled)\n",
    "acc_test = accuracy_score(y_pred_test, y_test)\n",
    "prec_test = mt.precision_score(y_test, y_pred_test, average='macro')\n",
    "rec_test = mt.recall_score(y_test, y_pred_test, average='macro')\n",
    "f1_test = mt.f1_score(y_test, y_pred_test, average='macro')\n",
    "print (f'Test Accuracy for Logistic Regression: {acc_test:.4f}')\n",
    "print (f'Test Precision for Logistic Regression: {prec_test:.4f}')\n",
    "print (f'Test Recall for Logistic Regression: {rec_test:.4f}')\n",
    "print (f'Test F1 for Logistic Regression: {f1_test:.4f}')"
   ]
  }
 ],
 "metadata": {
  "kernelspec": {
   "display_name": "Python 3",
   "language": "python",
   "name": "python3"
  },
  "language_info": {
   "codemirror_mode": {
    "name": "ipython",
    "version": 3
   },
   "file_extension": ".py",
   "mimetype": "text/x-python",
   "name": "python",
   "nbconvert_exporter": "python",
   "pygments_lexer": "ipython3",
   "version": "3.13.0"
  }
 },
 "nbformat": 4,
 "nbformat_minor": 2
}
