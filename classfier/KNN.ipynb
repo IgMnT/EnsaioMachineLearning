{
 "cells": [
  {
   "cell_type": "code",
   "execution_count": 10,
   "metadata": {},
   "outputs": [],
   "source": [
    "# Imports\n",
    "import pandas as pd\n",
    "import sklearn.metrics as mt\n",
    "import numpy as np\n",
    "import matplotlib.pyplot as plt\n",
    "from sklearn.neighbors import KNeighborsClassifier\n",
    "from sklearn import datasets as ds\n",
    "from sklearn import model_selection as ms\n",
    "from sklearn import preprocessing as pp\n",
    "from sklearn.metrics import accuracy_score\n"
   ]
  },
  {
   "cell_type": "code",
   "execution_count": 11,
   "metadata": {},
   "outputs": [],
   "source": [
    "# Load dos datasets\n",
    "\n",
    "x_train = pd.read_csv('X_training.csv')\n",
    "x_test = pd.read_csv('X_test.csv')\n",
    "y_train = pd.read_csv('y_training.csv')\n",
    "y_test = pd.read_csv('y_test.csv')\n",
    "x_validation = pd.read_csv('X_validation.csv')\n",
    "y_validation = pd.read_csv('y_validation.csv')"
   ]
  },
  {
   "cell_type": "code",
   "execution_count": 8,
   "metadata": {},
   "outputs": [
    {
     "name": "stdout",
     "output_type": "stream",
     "text": [
      "Accuracy for k =  1  is  0.6785289101965958\n",
      "Accuracy for k =  2  is  0.6612825380481997\n",
      "Accuracy for k =  3  is  0.6762765854757231\n",
      "Accuracy for k =  4  is  0.6687152096270794\n",
      "Accuracy for k =  5  is  0.6756652401943435\n",
      "Accuracy for k =  6  is  0.6705492454712185\n",
      "Accuracy for k =  7  is  0.6669777019852634\n",
      "Accuracy for k =  8  is  0.6676855754689662\n",
      "Accuracy for k =  9  is  0.6664950609736477\n",
      "Accuracy for k =  10  is  0.6654010746806526\n",
      "Accuracy for k =  11  is  0.6644357926574214\n",
      "Accuracy for k =  12  is  0.663245278162103\n",
      "Accuracy for k =  13  is  0.6610251295086714\n",
      "Accuracy for k =  14  is  0.6611216577109945\n",
      "Accuracy for k =  15  is  0.6585797483831526\n",
      "Accuracy for k =  16  is  0.6557160783809003\n",
      "Accuracy for k =  17  is  0.6522732391647093\n",
      "Accuracy for k =  18  is  0.6533672254577045\n",
      "Accuracy for k =  19  is  0.6499243862415136\n",
      "Accuracy for k =  20  is  0.6489912802857235\n",
      "Accuracy for k =  21  is  0.6458058496090607\n",
      "Accuracy for k =  22  is  0.6457414974741787\n",
      "Accuracy for k =  23  is  0.641655136909167\n",
      "Accuracy for k =  24  is  0.6430065317416905\n",
      "Accuracy for k =  25  is  0.6393062839859712\n",
      "Accuracy for k =  26  is  0.6392419318510891\n",
      "Accuracy for k =  27  is  0.6358312687023392\n",
      "Accuracy for k =  28  is  0.6359599729721034\n",
      "Accuracy for k =  29  is  0.6325814858907944\n"
     ]
    }
   ],
   "source": [
    "for k in range(1,30):\n",
    "    knn = KNeighborsClassifier(n_neighbors=k)\n",
    "    knn.fit(x_train, y_train.values.ravel())\n",
    "    y_pred_val = knn.predict(x_validation)\n",
    "    acc = mt.accuracy_score(y_validation, y_pred_val)\n",
    "    print(\"Accuracy for k = \", k, \" is \", acc)\n"
   ]
  },
  {
   "cell_type": "code",
   "execution_count": 9,
   "metadata": {},
   "outputs": [
    {
     "name": "stdout",
     "output_type": "stream",
     "text": [
      "Precision for k=4: 0.6270\n",
      "Accuracy for k=3: 0.6337\n"
     ]
    }
   ],
   "source": [
    "knn_final = KNeighborsClassifier(n_neighbors=3)\n",
    "knn.fit(x_train, y_train.values.ravel())\n",
    "y_pred_test = knn.predict(x_test)\n",
    "prec_test = mt.precision_score(y_test, y_pred_test, average='macro')\n",
    "print (f'Precision for k=4: {prec_test:.4f}')\n",
    "acc_test = accuracy_score(y_pred_test, y_test)\n",
    "print (f'Accuracy for k=3: {acc_test:.4f}')"
   ]
  }
 ],
 "metadata": {
  "kernelspec": {
   "display_name": "Python 3",
   "language": "python",
   "name": "python3"
  },
  "language_info": {
   "codemirror_mode": {
    "name": "ipython",
    "version": 3
   },
   "file_extension": ".py",
   "mimetype": "text/x-python",
   "name": "python",
   "nbconvert_exporter": "python",
   "pygments_lexer": "ipython3",
   "version": "3.13.0"
  }
 },
 "nbformat": 4,
 "nbformat_minor": 2
}
